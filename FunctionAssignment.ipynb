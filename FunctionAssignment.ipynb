{
 "cells": [
  {
   "cell_type": "code",
   "execution_count": 2,
   "id": "947f3df4-4ef4-45ee-8883-c1b49352bcc6",
   "metadata": {},
   "outputs": [
    {
     "name": "stdout",
     "output_type": "stream",
     "text": [
      "Sub-fields in AI are:\n",
      "Machine Learning\n",
      "Neural Networks\n",
      "Vision\n",
      "Robotics\n",
      "Speech processing\n",
      "Natural Language processing\n"
     ]
    }
   ],
   "source": [
    "#List the iten in functions\n",
    "\n",
    "def subfields():\n",
    "    sub_fields=[\"Machine Learning\",\"Neural Networks\",\"Vision\",\"Robotics\",\n",
    "                \"Speech processing\", \"Natural Language processing\"]\n",
    "    print(\"Sub-fields in AI are:\")\n",
    "    i=0\n",
    "    while i<len(sub_fields):\n",
    "        print(sub_fields[i])\n",
    "        i+=1\n",
    "subfields()"
   ]
  },
  {
   "cell_type": "code",
   "execution_count": 8,
   "id": "214b183f-5043-46a4-b7a0-ab4f17f867a8",
   "metadata": {},
   "outputs": [
    {
     "name": "stdin",
     "output_type": "stream",
     "text": [
      "Enter the number to check: 4\n"
     ]
    },
    {
     "name": "stdout",
     "output_type": "stream",
     "text": [
      "4 is Even Number\n"
     ]
    }
   ],
   "source": [
    "#Odd or even \n",
    "\n",
    "def OddEven(num):\n",
    "    if(num%2==0):\n",
    "        message=\"Even Number\"\n",
    "    else:\n",
    "        message=\"Odd Number\"\n",
    "    return message\n",
    "\n",
    "Number=int(input(\"Enter the number to check:\"))\n",
    "Result=OddEven(Number)\n",
    "print(Number, \"is\", Result)"
   ]
  },
  {
   "cell_type": "code",
   "execution_count": 10,
   "id": "026d7cb4-ea44-42cb-989c-c1f9b2a0ba5a",
   "metadata": {},
   "outputs": [
    {
     "name": "stdin",
     "output_type": "stream",
     "text": [
      "Enter Your Gender : Male\n",
      "Enter Your Age : 18\n"
     ]
    },
    {
     "name": "stdout",
     "output_type": "stream",
     "text": [
      "Your Gender Male\n",
      "Your Age 18\n",
      "NOT ELIGIBLE\n"
     ]
    }
   ],
   "source": [
    "#Eligible\n",
    "\n",
    "def Eligible(Gender,Age):\n",
    "    if(Gender==\"Male\"):\n",
    "        if(Age<21):\n",
    "            message=\"NOT ELIGIBLE\"\n",
    "        else:\n",
    "            message=\"ELIGIBLE\"\n",
    "    else:\n",
    "        if(Age<21):\n",
    "            message=\"NOT ELIGIBLE\"\n",
    "        else:\n",
    "            message=\"ELIGIBLE\"\n",
    "    return message\n",
    "\n",
    "Gender=input(\"Enter Your Gender :\")\n",
    "Age=int(input(\"Enter Your Age :\"))\n",
    "Result=Eligible(Gender,Age)\n",
    "print(\"Your Gender\", Gender)\n",
    "print(\"Your Age\", Age)\n",
    "print(Result)\n"
   ]
  },
  {
   "cell_type": "code",
   "execution_count": 19,
   "id": "0a1ec8aa-433e-4efa-876f-85d8c88bdb85",
   "metadata": {},
   "outputs": [
    {
     "name": "stdout",
     "output_type": "stream",
     "text": [
      "Total : 148\n",
      "Average : 29.6\n"
     ]
    }
   ],
   "source": [
    "#Percentage\n",
    "\n",
    "def Percentage(list):\n",
    "    Total=sum(list)\n",
    "    Average=Total/len(list)\n",
    "    print(\"Total :\", Total)\n",
    "    print(\"Average :\", Average)\n",
    "    return  Total , Average\n",
    "\n",
    "markList=[23,45,34,23,23]\n",
    "Result= Percentage(markList)"
   ]
  },
  {
   "cell_type": "code",
   "execution_count": 1,
   "id": "f3d9d3ae-a618-436f-881f-db9251ba6002",
   "metadata": {},
   "outputs": [
    {
     "name": "stdin",
     "output_type": "stream",
     "text": [
      "Height: 3\n",
      "Breadth: 4\n"
     ]
    },
    {
     "name": "stdout",
     "output_type": "stream",
     "text": [
      "Area of formula: (Height*Breadth)/2\n",
      "Area of Triangle : 6.0\n"
     ]
    },
    {
     "name": "stdin",
     "output_type": "stream",
     "text": [
      "Height1: 3\n",
      "Height2: 4\n",
      "Breadth: 45\n"
     ]
    },
    {
     "name": "stdout",
     "output_type": "stream",
     "text": [
      "Perimeter formula: (Height1+Height2+Breadth)\n",
      "Perimeter of Triangle : 52\n"
     ]
    },
    {
     "data": {
      "text/plain": [
       "(6.0, 52)"
      ]
     },
     "execution_count": 1,
     "metadata": {},
     "output_type": "execute_result"
    }
   ],
   "source": [
    "#Area of triangle and perimeter of triangle\n",
    "\n",
    "def triangle():\n",
    "    Height=int(input(\"Height:\"))\n",
    "    Breadth=int(input(\"Breadth:\"))\n",
    "    print(\"Area of formula: (Height*Breadth)/2\")\n",
    "    Area=(Height*Breadth)/2\n",
    "    print(\"Area of Triangle :\", Area)\n",
    "    Height1=int(input(\"Height1:\"))\n",
    "    Height2=int(input(\"Height2:\"))\n",
    "    Breadth=int(input(\"Breadth:\"))\n",
    "    print(\"Perimeter formula: (Height1+Height2+Breadth)\")\n",
    "    Perimeter=(Height1+Height2+Breadth)\n",
    "    print(\"Perimeter of Triangle :\", Perimeter)\n",
    "    return Area, Perimeter\n",
    "\n",
    "triangle()\n"
   ]
  },
  {
   "cell_type": "code",
   "execution_count": null,
   "id": "09c15341-a6f6-45ec-adb5-7ec7e80e0801",
   "metadata": {},
   "outputs": [],
   "source": []
  }
 ],
 "metadata": {
  "kernelspec": {
   "display_name": "Python [conda env:base] *",
   "language": "python",
   "name": "conda-base-py"
  },
  "language_info": {
   "codemirror_mode": {
    "name": "ipython",
    "version": 3
   },
   "file_extension": ".py",
   "mimetype": "text/x-python",
   "name": "python",
   "nbconvert_exporter": "python",
   "pygments_lexer": "ipython3",
   "version": "3.12.7"
  }
 },
 "nbformat": 4,
 "nbformat_minor": 5
}
