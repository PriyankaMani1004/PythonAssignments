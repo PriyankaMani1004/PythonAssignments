{
 "cells": [
  {
   "cell_type": "code",
   "execution_count": 12,
   "id": "5fd5c475",
   "metadata": {},
   "outputs": [
    {
     "name": "stdout",
     "output_type": "stream",
     "text": [
      "1\n",
      "2\n",
      "3\n",
      "4\n",
      "5\n"
     ]
    }
   ],
   "source": [
    "#1.Write a Python program that prints numbers from 1 to 5.\n",
    "#Expected Output:\n",
    "#1 2 3 4 5\n",
    "def number():\n",
    "    for value in range(1,6):\n",
    "        print(value)\n",
    "\n",
    "number()"
   ]
  },
  {
   "cell_type": "code",
   "execution_count": 13,
   "id": "3c8bc472",
   "metadata": {},
   "outputs": [
    {
     "name": "stdout",
     "output_type": "stream",
     "text": [
      "2\n",
      "4\n",
      "6\n",
      "8\n",
      "10\n"
     ]
    }
   ],
   "source": [
    "#2.Write a Python program to print the first 5 even numbers. Expected Output:\n",
    "#2 4 6 8 10\n",
    "\n",
    "def Even():\n",
    "    for value in range(2,12,2):\n",
    "        print(value)\n",
    "\n",
    "Even()"
   ]
  },
  {
   "cell_type": "code",
   "execution_count": 23,
   "id": "5e7af211",
   "metadata": {},
   "outputs": [
    {
     "name": "stdout",
     "output_type": "stream",
     "text": [
      "55\n"
     ]
    }
   ],
   "source": [
    "#3.Write a Python program to print the sum of numbers from 1 to 10. \n",
    "#Expected Output:55\n",
    "\n",
    "def SumOFNumber():\n",
    "    sum=0\n",
    "    for value in range(1,11):        \n",
    "        sum +=value\n",
    "    return sum\n",
    "\n",
    "result=SumOFNumber()\n",
    "print(result)\n"
   ]
  },
  {
   "cell_type": "code",
   "execution_count": 21,
   "id": "ac09aa1a",
   "metadata": {},
   "outputs": [
    {
     "name": "stdout",
     "output_type": "stream",
     "text": [
      "120\n"
     ]
    }
   ],
   "source": [
    "#4.Write a Python function to find the factorial of 5.\n",
    "#Expected Output:120\n",
    "\n",
    "def factorial(n):\n",
    "    result=1\n",
    "    for value in range(1,n+1):\n",
    "        result*=value\n",
    "    return result\n",
    "result=factorial(5)\n",
    "print(result)"
   ]
  },
  {
   "cell_type": "code",
   "execution_count": 15,
   "id": "8ab9fc8a",
   "metadata": {},
   "outputs": [
    {
     "name": "stdin",
     "output_type": "stream",
     "text": [
      "Enter the number to check: 7\n"
     ]
    },
    {
     "name": "stdout",
     "output_type": "stream",
     "text": [
      "7 is a prime number\n"
     ]
    }
   ],
   "source": [
    "#5.Write a Python program to check if a number is prime. \n",
    "#Expected Output (for input 7):7 is a prime number\n",
    "\n",
    "def prime(number):\n",
    "    if number <= 1:\n",
    "        return False \n",
    "    for i in range(2, number):\n",
    "        if number % i == 0:\n",
    "            return False \n",
    "        return True \n",
    "number=int(input(\"Enter the number to check:\"))\n",
    "result=prime(number)\n",
    "if result:\n",
    "    print(number, \"is a prime number\")\n",
    "else:\n",
    "    print(number, \" is not a prime number\")"
   ]
  },
  {
   "cell_type": "code",
   "execution_count": null,
   "id": "9012bcf8-8f39-4255-9d4e-3e163d9f4234",
   "metadata": {},
   "outputs": [],
   "source": []
  }
 ],
 "metadata": {
  "kernelspec": {
   "display_name": "Python [conda env:base] *",
   "language": "python",
   "name": "conda-base-py"
  },
  "language_info": {
   "codemirror_mode": {
    "name": "ipython",
    "version": 3
   },
   "file_extension": ".py",
   "mimetype": "text/x-python",
   "name": "python",
   "nbconvert_exporter": "python",
   "pygments_lexer": "ipython3",
   "version": "3.12.7"
  }
 },
 "nbformat": 4,
 "nbformat_minor": 5
}
