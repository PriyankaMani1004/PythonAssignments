{
 "cells": [
  {
   "cell_type": "code",
   "execution_count": 1,
   "id": "a2ceb868-ee8e-4498-accd-6741795acc45",
   "metadata": {},
   "outputs": [],
   "source": [
    "from classLibrary import classLibrary"
   ]
  },
  {
   "cell_type": "code",
   "execution_count": 2,
   "id": "d918bc80-3dea-40f3-a62e-27dc48a91f8e",
   "metadata": {},
   "outputs": [
    {
     "name": "stdout",
     "output_type": "stream",
     "text": [
      "Sub-fields in AI are:\n",
      "Machine Learning\n",
      "Neural Networks\n",
      "Vision\n",
      "Robotics\n",
      "Speech processing\n",
      "Natural Language processing\n"
     ]
    }
   ],
   "source": [
    "#Create a class and function, and list out the items in the list\n",
    "\n",
    "classLibrary.subfields()"
   ]
  },
  {
   "cell_type": "code",
   "execution_count": null,
   "id": "c68c90d7-740a-40b4-ae18-67983163b4b6",
   "metadata": {},
   "outputs": [],
   "source": [
    "# Create a function that checks whether the given number is Odd or Even\n",
    "\n",
    "Number=int(input(\"Enter the number to check:\"))\n",
    "Result=classLibrary.OddEven(Number)\n",
    "print(Number, \"is\", Result)"
   ]
  },
  {
   "cell_type": "code",
   "execution_count": 2,
   "id": "34767ce9-9d62-4794-9216-eff3dd2746f4",
   "metadata": {},
   "outputs": [
    {
     "name": "stdin",
     "output_type": "stream",
     "text": [
      "Enter Your Gender : Male\n",
      "Enter Your Age : 20\n"
     ]
    },
    {
     "name": "stdout",
     "output_type": "stream",
     "text": [
      "Your Gender Male\n",
      "Your Age 20\n",
      "NOT ELIGIBLE\n"
     ]
    }
   ],
   "source": [
    "#Create a function that tells elegibility of marriage for male and female according to their age limit like 21 for male and 18 for female\n",
    "\n",
    "\n",
    "Gender=input(\"Enter Your Gender :\")\n",
    "Age=int(input(\"Enter Your Age :\"))\n",
    "Result=classLibrary.Eligible(Gender,Age)\n",
    "print(\"Your Gender\", Gender)\n",
    "print(\"Your Age\", Age)\n",
    "print(Result)"
   ]
  },
  {
   "cell_type": "code",
   "execution_count": 3,
   "id": "be9a1acb-b73c-493f-99a4-01763f8c2a6c",
   "metadata": {},
   "outputs": [
    {
     "name": "stdout",
     "output_type": "stream",
     "text": [
      "Total : 468\n",
      "Average : 93.6\n"
     ]
    }
   ],
   "source": [
    "#calculate the percentage of your 10th mark\n",
    "\n",
    "markList=[98,87,95,95,93]\n",
    "Result= classLibrary.Percentage(markList)"
   ]
  },
  {
   "cell_type": "code",
   "execution_count": 2,
   "id": "77aecebe-a142-44d8-8333-4487dfb99978",
   "metadata": {},
   "outputs": [
    {
     "name": "stdin",
     "output_type": "stream",
     "text": [
      "Height: 32\n",
      "Breadth: 34\n"
     ]
    },
    {
     "name": "stdout",
     "output_type": "stream",
     "text": [
      "Area of formula: (Height*Breadth)/2\n",
      "Area of Triangle : 544.0\n"
     ]
    },
    {
     "name": "stdin",
     "output_type": "stream",
     "text": [
      "Height1: 2\n",
      "Height2: 4\n",
      "Breadth: 4\n"
     ]
    },
    {
     "name": "stdout",
     "output_type": "stream",
     "text": [
      "Perimeter formula: (Height1+Height2+Breadth)\n",
      "Perimeter of Triangle : 10\n"
     ]
    },
    {
     "data": {
      "text/plain": [
       "(544.0, 10)"
      ]
     },
     "execution_count": 2,
     "metadata": {},
     "output_type": "execute_result"
    }
   ],
   "source": [
    "#print area and perimeter of triangle using class and functions\n",
    "\n",
    "classLibrary.triangle()"
   ]
  },
  {
   "cell_type": "code",
   "execution_count": null,
   "id": "2d486972-4eeb-4286-893b-861dd0604cc8",
   "metadata": {},
   "outputs": [],
   "source": []
  }
 ],
 "metadata": {
  "kernelspec": {
   "display_name": "Python [conda env:base] *",
   "language": "python",
   "name": "conda-base-py"
  },
  "language_info": {
   "codemirror_mode": {
    "name": "ipython",
    "version": 3
   },
   "file_extension": ".py",
   "mimetype": "text/x-python",
   "name": "python",
   "nbconvert_exporter": "python",
   "pygments_lexer": "ipython3",
   "version": "3.12.7"
  }
 },
 "nbformat": 4,
 "nbformat_minor": 5
}
