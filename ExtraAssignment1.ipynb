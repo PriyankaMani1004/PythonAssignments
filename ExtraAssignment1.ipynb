{
 "cells": [
  {
   "cell_type": "code",
   "execution_count": 1,
   "id": "06c753bf-ee88-48bd-be29-09f5d92d11d2",
   "metadata": {},
   "outputs": [
    {
     "name": "stdout",
     "output_type": "stream",
     "text": [
      "Hope AI\n"
     ]
    }
   ],
   "source": [
    "print(\"Hope AI\")"
   ]
  },
  {
   "cell_type": "code",
   "execution_count": null,
   "id": "1f52fcc9-175f-494c-9551-65f1665a788b",
   "metadata": {},
   "outputs": [],
   "source": [
    "input(\"Enter your institute name ? :\")"
   ]
  },
  {
   "cell_type": "code",
   "execution_count": 3,
   "id": "cce26592-3a7f-4a77-b237-022e6ec6b428",
   "metadata": {},
   "outputs": [
    {
     "name": "stdin",
     "output_type": "stream",
     "text": [
      "Enter your name : Raj\n",
      "Enter your age : 25\n",
      "Enter your School name : Guru School\n",
      "Enter your Degree : B.E CSE\n"
     ]
    },
    {
     "data": {
      "text/plain": [
       "'B.E CSE'"
      ]
     },
     "execution_count": 3,
     "metadata": {},
     "output_type": "execute_result"
    }
   ],
   "source": [
    "input(\"Enter your name :\")\n",
    "input(\"Enter your age :\")\n",
    "input(\"Enter your School name :\")\n",
    "input(\"Enter your Degree :\")"
   ]
  },
  {
   "cell_type": "code",
   "execution_count": 2,
   "id": "a101a503-b140-42e6-84f9-7519e3615d2b",
   "metadata": {},
   "outputs": [
    {
     "name": "stdout",
     "output_type": "stream",
     "text": [
      "a = 43\n",
      "b = 34\n",
      "add = 77\n"
     ]
    }
   ],
   "source": [
    "#Addition\n",
    "\n",
    "a=43\n",
    "print(\"a =\", a)\n",
    "b=34\n",
    "print(\"b =\", b)\n",
    "print(\"add =\", a+b)"
   ]
  },
  {
   "cell_type": "code",
   "execution_count": 4,
   "id": "1d881c99-5edc-4801-843d-612bd52348f1",
   "metadata": {},
   "outputs": [
    {
     "name": "stdout",
     "output_type": "stream",
     "text": [
      "a = 43\n",
      "b = 34\n",
      "sub = 9\n"
     ]
    }
   ],
   "source": [
    "#Subtraction\n",
    "\n",
    "a=43\n",
    "print(\"a =\", a)\n",
    "b=34\n",
    "print(\"b =\", b)\n",
    "print(\"sub =\", a-b)"
   ]
  },
  {
   "cell_type": "code",
   "execution_count": 10,
   "id": "7a49d215-78fa-4d33-9800-7c1d47339e86",
   "metadata": {},
   "outputs": [
    {
     "name": "stdout",
     "output_type": "stream",
     "text": [
      "a = 63\n",
      "b = 97\n",
      "Mul = 6111\n"
     ]
    }
   ],
   "source": [
    "#Multiplication\n",
    "\n",
    "a=63\n",
    "print(\"a =\", a)\n",
    "b=97\n",
    "print(\"b =\", b)\n",
    "print(\"Mul =\", a*b)"
   ]
  },
  {
   "cell_type": "code",
   "execution_count": 6,
   "id": "483beafb-5373-44ee-aec3-5d3e08224f44",
   "metadata": {},
   "outputs": [
    {
     "name": "stdout",
     "output_type": "stream",
     "text": [
      "a = 76\n",
      "b = 31\n",
      "Float Div = 2.4516129032258065\n"
     ]
    }
   ],
   "source": [
    "#float Division\n",
    "\n",
    "a=76\n",
    "print(\"a =\", a)\n",
    "b=31\n",
    "print(\"b =\", b)\n",
    "print(\"Float Div =\", a/b)"
   ]
  },
  {
   "cell_type": "code",
   "execution_count": 7,
   "id": "d4b910bc-28b7-4a0c-bf32-60cb65d4ed7d",
   "metadata": {},
   "outputs": [
    {
     "name": "stdout",
     "output_type": "stream",
     "text": [
      "a = 76\n",
      "b = 31\n",
      "Floor Div = 2\n"
     ]
    }
   ],
   "source": [
    "#floor Division\n",
    "\n",
    "a=76\n",
    "print(\"a =\", a)\n",
    "b=31\n",
    "print(\"b =\", b)\n",
    "print(\"Floor Div =\", a//b)"
   ]
  },
  {
   "cell_type": "code",
   "execution_count": 8,
   "id": "7d9d87ab-9a89-43f5-9c49-9bc97c732556",
   "metadata": {},
   "outputs": [
    {
     "name": "stdout",
     "output_type": "stream",
     "text": [
      "a = 76\n",
      "b = 31\n",
      "Modulo = 14\n"
     ]
    }
   ],
   "source": [
    "#modulo\n",
    "\n",
    "a=76\n",
    "print(\"a =\", a)\n",
    "b=31\n",
    "print(\"b =\", b)\n",
    "print(\"Modulo =\", a%b)"
   ]
  },
  {
   "cell_type": "code",
   "execution_count": 9,
   "id": "9c5062f9-cb12-4a8a-8bcd-4d646c22d388",
   "metadata": {},
   "outputs": [
    {
     "name": "stdout",
     "output_type": "stream",
     "text": [
      "a = 4\n",
      "b = 4\n",
      "Power = 256\n"
     ]
    }
   ],
   "source": [
    "#Power\n",
    "\n",
    "a=4\n",
    "print(\"a =\", a)\n",
    "b=4\n",
    "print(\"b =\", b)\n",
    "print(\"Power =\", a**b)"
   ]
  },
  {
   "cell_type": "code",
   "execution_count": null,
   "id": "422498b8-b2e6-4ee1-9778-d6eb34384ca1",
   "metadata": {},
   "outputs": [],
   "source": []
  }
 ],
 "metadata": {
  "kernelspec": {
   "display_name": "Python [conda env:base] *",
   "language": "python",
   "name": "conda-base-py"
  },
  "language_info": {
   "codemirror_mode": {
    "name": "ipython",
    "version": 3
   },
   "file_extension": ".py",
   "mimetype": "text/x-python",
   "name": "python",
   "nbconvert_exporter": "python",
   "pygments_lexer": "ipython3",
   "version": "3.12.7"
  }
 },
 "nbformat": 4,
 "nbformat_minor": 5
}
