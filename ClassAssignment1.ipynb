{
 "cells": [
  {
   "cell_type": "code",
   "execution_count": 3,
   "id": "3b3d6abd-3bdf-4b14-8997-72cc3ae962ee",
   "metadata": {},
   "outputs": [
    {
     "name": "stdout",
     "output_type": "stream",
     "text": [
      "Sub-fields in AI are:\n",
      "Machine Learning\n",
      "Neural Networks\n",
      "Vision\n",
      "Robotics\n",
      "Speech processing\n",
      "Natural Language processing\n"
     ]
    }
   ],
   "source": [
    " #Create a class and function, and list out the items in the list\n",
    "\n",
    "class SubfieldsInAI():\n",
    "    def subfields():\n",
    "        sub_fields=[\"Machine Learning\",\"Neural Networks\",\"Vision\",\"Robotics\",\n",
    "                    \"Speech processing\", \"Natural Language processing\"]\n",
    "        print(\"Sub-fields in AI are:\")\n",
    "        i=0\n",
    "        while i<len(sub_fields):\n",
    "            print(sub_fields[i])\n",
    "            i+=1\n",
    "\n",
    "SubfieldsInAI.subfields()"
   ]
  },
  {
   "cell_type": "code",
   "execution_count": 2,
   "id": "6b175fb6-501c-47ba-8378-588815afe896",
   "metadata": {},
   "outputs": [
    {
     "name": "stdin",
     "output_type": "stream",
     "text": [
      "Enter the number to check: 52452\n"
     ]
    },
    {
     "name": "stdout",
     "output_type": "stream",
     "text": [
      "52452 is Even Number\n"
     ]
    }
   ],
   "source": [
    "# Create a function that checks whether the given number is Odd or Even\n",
    "\n",
    "class OddEven():\n",
    "    def OddEven(num):\n",
    "        if(num%2==0):\n",
    "            message=\"Even Number\"\n",
    "        else:\n",
    "            message=\"Odd Number\"\n",
    "        return message\n",
    "\n",
    "Number=int(input(\"Enter the number to check:\"))\n",
    "Result=OddEven.OddEven(Number)\n",
    "print(Number, \"is\", Result)"
   ]
  },
  {
   "cell_type": "code",
   "execution_count": 3,
   "id": "1bbfd395-74f7-45dd-a02d-83698ab67064",
   "metadata": {},
   "outputs": [
    {
     "name": "stdin",
     "output_type": "stream",
     "text": [
      "Enter Your Gender : Male\n",
      "Enter Your Age : 20\n"
     ]
    },
    {
     "name": "stdout",
     "output_type": "stream",
     "text": [
      "Your Gender Male\n",
      "Your Age 20\n",
      "NOT ELIGIBLE\n"
     ]
    }
   ],
   "source": [
    "#Create a function that tells elegibility of marriage for male and female according to their age limit like 21 for male and 18 for female\n",
    "\n",
    "class EligiblityForMarriage():\n",
    "    def Eligible(Gender,Age):\n",
    "        if(Gender==\"Male\"):\n",
    "            if(Age<21):\n",
    "                message=\"NOT ELIGIBLE\"\n",
    "            else:\n",
    "                message=\"ELIGIBLE\"\n",
    "        else:\n",
    "            if(Age<21):\n",
    "                message=\"NOT ELIGIBLE\"\n",
    "            else:\n",
    "                message=\"ELIGIBLE\"\n",
    "        return message\n",
    "\n",
    "Gender=input(\"Enter Your Gender :\")\n",
    "Age=int(input(\"Enter Your Age :\"))\n",
    "Result=EligiblityForMarriage.Eligible(Gender,Age)\n",
    "print(\"Your Gender\", Gender)\n",
    "print(\"Your Age\", Age)\n",
    "print(Result)"
   ]
  },
  {
   "cell_type": "code",
   "execution_count": 4,
   "id": "1b7cc33b-31cb-4f48-9184-ffb13625afda",
   "metadata": {},
   "outputs": [
    {
     "name": "stdout",
     "output_type": "stream",
     "text": [
      "Total : 468\n",
      "Average : 93.6\n"
     ]
    }
   ],
   "source": [
    "#calculate the percentage of your 10th mark\n",
    "\n",
    "class FindPercent():\n",
    "    def Percentage(list):\n",
    "        Total=sum(list)\n",
    "        Average=Total/len(list)\n",
    "        print(\"Total :\", Total)\n",
    "        print(\"Average :\", Average)\n",
    "        return  Total , Average\n",
    "\n",
    "markList=[98,87,95,95,93]\n",
    "Result= FindPercent.Percentage(markList)"
   ]
  },
  {
   "cell_type": "code",
   "execution_count": 5,
   "id": "2ef8129d-50d6-440b-977e-b31aa873e15f",
   "metadata": {},
   "outputs": [
    {
     "name": "stdin",
     "output_type": "stream",
     "text": [
      "Height: 32\n",
      "Breadth: 34\n"
     ]
    },
    {
     "name": "stdout",
     "output_type": "stream",
     "text": [
      "Area of formula: (Height*Breadth)/2\n",
      "Area of Triangle : 544.0\n"
     ]
    },
    {
     "name": "stdin",
     "output_type": "stream",
     "text": [
      "Height1: 2\n",
      "Height2: 4\n",
      "Breadth: 4\n"
     ]
    },
    {
     "name": "stdout",
     "output_type": "stream",
     "text": [
      "Perimeter formula: (Height1+Height2+Breadth)\n",
      "Perimeter of Triangle : 10\n"
     ]
    },
    {
     "data": {
      "text/plain": [
       "(544.0, 10)"
      ]
     },
     "execution_count": 5,
     "metadata": {},
     "output_type": "execute_result"
    }
   ],
   "source": [
    "#print area and perimeter of triangle using class and functions\n",
    "\n",
    "class triangle():\n",
    "    def triangle():\n",
    "        Height=int(input(\"Height:\"))\n",
    "        Breadth=int(input(\"Breadth:\"))\n",
    "        print(\"Area of formula: (Height*Breadth)/2\")\n",
    "        Area=(Height*Breadth)/2\n",
    "        print(\"Area of Triangle :\", Area)\n",
    "        Height1=int(input(\"Height1:\"))\n",
    "        Height2=int(input(\"Height2:\"))\n",
    "        Breadth=int(input(\"Breadth:\"))\n",
    "        print(\"Perimeter formula: (Height1+Height2+Breadth)\")\n",
    "        Perimeter=(Height1+Height2+Breadth)\n",
    "        print(\"Perimeter of Triangle :\", Perimeter)\n",
    "        return Area, Perimeter\n",
    "\n",
    "triangle.triangle()\n"
   ]
  },
  {
   "cell_type": "code",
   "execution_count": null,
   "id": "b341a3bb-1589-4b33-9186-271f022f183f",
   "metadata": {},
   "outputs": [],
   "source": []
  }
 ],
 "metadata": {
  "kernelspec": {
   "display_name": "Python [conda env:base] *",
   "language": "python",
   "name": "conda-base-py"
  },
  "language_info": {
   "codemirror_mode": {
    "name": "ipython",
    "version": 3
   },
   "file_extension": ".py",
   "mimetype": "text/x-python",
   "name": "python",
   "nbconvert_exporter": "python",
   "pygments_lexer": "ipython3",
   "version": "3.12.7"
  }
 },
 "nbformat": 4,
 "nbformat_minor": 5
}
