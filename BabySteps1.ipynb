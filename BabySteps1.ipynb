{
 "cells": [
  {
   "cell_type": "code",
   "execution_count": 1,
   "id": "d71b6f13-77d4-448b-84b2-094492b11cde",
   "metadata": {},
   "outputs": [
    {
     "name": "stdout",
     "output_type": "stream",
     "text": [
      "Welcome to Assignment-1\n"
     ]
    }
   ],
   "source": [
    "print(\"Welcome to Assignment-1\")"
   ]
  },
  {
   "cell_type": "code",
   "execution_count": 3,
   "id": "1c89f20d-b49a-4259-b8d0-3fece4415f7c",
   "metadata": {},
   "outputs": [
    {
     "name": "stdout",
     "output_type": "stream",
     "text": [
      "Num1 = 10\n",
      "Num2 = 30\n",
      "Add = 40\n"
     ]
    }
   ],
   "source": [
    "#Addition\n",
    "\n",
    "Num1=10\n",
    "print(\"Num1 =\", Num1)\n",
    "Num2=30\n",
    "print(\"Num2 =\", Num2)\n",
    "print(\"Add =\", Num1 + Num2)"
   ]
  },
  {
   "cell_type": "code",
   "execution_count": 7,
   "id": "36b86e11-1110-434f-bc91-785df4ef863a",
   "metadata": {},
   "outputs": [
    {
     "name": "stdin",
     "output_type": "stream",
     "text": [
      "Enter the BMI Index: 40\n"
     ]
    },
    {
     "name": "stdout",
     "output_type": "stream",
     "text": [
      "Morbid Obese\n"
     ]
    }
   ],
   "source": [
    "#BMI Index\n",
    "\n",
    "BMI=int(input(\"Enter the BMI Index:\"))\n",
    "if(BMI<18.5):\n",
    "    print(\"Under Weight\")\n",
    "elif(BMI<25):\n",
    "    print(\"Normal\")\n",
    "elif(BMI<30):\n",
    "    print(\"Over weight\")\n",
    "else:\n",
    "    if(BMI<35):\n",
    "        print(\"Mild Obese\")\n",
    "    elif(BMI<40):\n",
    "        print(\"Moderate Obese\")\n",
    "    else:\n",
    "        print(\"Morbid Obese\")"
   ]
  },
  {
   "cell_type": "code",
   "execution_count": null,
   "id": "5c497357-43eb-44d4-93de-f63ec3fcb03d",
   "metadata": {},
   "outputs": [],
   "source": []
  }
 ],
 "metadata": {
  "kernelspec": {
   "display_name": "Python [conda env:base] *",
   "language": "python",
   "name": "conda-base-py"
  },
  "language_info": {
   "codemirror_mode": {
    "name": "ipython",
    "version": 3
   },
   "file_extension": ".py",
   "mimetype": "text/x-python",
   "name": "python",
   "nbconvert_exporter": "python",
   "pygments_lexer": "ipython3",
   "version": "3.12.7"
  }
 },
 "nbformat": 4,
 "nbformat_minor": 5
}
