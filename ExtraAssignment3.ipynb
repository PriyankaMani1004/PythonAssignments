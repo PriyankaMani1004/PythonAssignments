{
 "cells": [
  {
   "cell_type": "code",
   "execution_count": 4,
   "id": "fad3b7a4-d225-467a-a9e6-44f79f1d51d4",
   "metadata": {},
   "outputs": [
    {
     "name": "stdout",
     "output_type": "stream",
     "text": [
      "Value : 10\n",
      "Correct\n"
     ]
    }
   ],
   "source": [
    "value=10\n",
    "print(\"Value :\", value)\n",
    "if(value==10):\n",
    "    print(\"Correct\")"
   ]
  },
  {
   "cell_type": "code",
   "execution_count": 7,
   "id": "dc61d2f1-3cd6-4970-83d4-7cd9e10d313b",
   "metadata": {},
   "outputs": [
    {
     "name": "stdin",
     "output_type": "stream",
     "text": [
      "Enter the password : Hope@123\n"
     ]
    },
    {
     "name": "stdout",
     "output_type": "stream",
     "text": [
      "Your password is correct\n"
     ]
    }
   ],
   "source": [
    "Password=input(\"Enter the password :\")\n",
    "if(Password==\"Hope@123\"):\n",
    "    print(\"Your password is correct\")\n",
    "else:\n",
    "     print(\"Your password is incorrect\")"
   ]
  },
  {
   "cell_type": "code",
   "execution_count": 9,
   "id": "a1adb533-dcae-412b-9c3d-52cfa69a35fc",
   "metadata": {},
   "outputs": [
    {
     "name": "stdin",
     "output_type": "stream",
     "text": [
      "Enter your age : 20\n"
     ]
    },
    {
     "name": "stdout",
     "output_type": "stream",
     "text": [
      "age : 20\n",
      "Adult\n"
     ]
    }
   ],
   "source": [
    "Age=int(input(\"Enter your age :\"))\n",
    "print(\"age :\",Age)\n",
    "if(Age<18):\n",
    "    print(\"Children\")\n",
    "elif(Age<30):\n",
    "    print(\"Adult\")\n",
    "elif(Age<60):\n",
    "    print(\"Citizen\")\n",
    "else:\n",
    "    print(\"Senior Citizen\")              "
   ]
  },
  {
   "cell_type": "code",
   "execution_count": 11,
   "id": "17deed3b-cfd6-4dcc-b261-079412c2b4ac",
   "metadata": {},
   "outputs": [
    {
     "name": "stdin",
     "output_type": "stream",
     "text": [
      "Enter any number : 1\n"
     ]
    },
    {
     "name": "stdout",
     "output_type": "stream",
     "text": [
      "The number is positive\n"
     ]
    }
   ],
   "source": [
    "num=int(input(\"Enter any number :\"))\n",
    "if(num<0):\n",
    "    print(\"The number is negative\")\n",
    "elif(num>0):\n",
    "    print(\"The number is positive\")\n",
    "else:\n",
    "    print(\"The number is zero\")"
   ]
  },
  {
   "cell_type": "code",
   "execution_count": 14,
   "id": "7216ea45-602a-40fd-b7d7-542f620be206",
   "metadata": {},
   "outputs": [
    {
     "name": "stdin",
     "output_type": "stream",
     "text": [
      "Enter a number to check : 22\n"
     ]
    },
    {
     "name": "stdout",
     "output_type": "stream",
     "text": [
      "The number is not divisible by 5\n"
     ]
    }
   ],
   "source": [
    "num=int(input(\"Enter a number to check :\"))\n",
    "if(num/5<0):\n",
    "    print(\"The number is divisible by 5\")\n",
    "else:\n",
    "    print(\"The number is not divisible by 5\")"
   ]
  },
  {
   "cell_type": "code",
   "execution_count": null,
   "id": "782810aa-992b-4a5e-8f46-c88d95b32a29",
   "metadata": {},
   "outputs": [],
   "source": []
  }
 ],
 "metadata": {
  "kernelspec": {
   "display_name": "Python [conda env:base] *",
   "language": "python",
   "name": "conda-base-py"
  },
  "language_info": {
   "codemirror_mode": {
    "name": "ipython",
    "version": 3
   },
   "file_extension": ".py",
   "mimetype": "text/x-python",
   "name": "python",
   "nbconvert_exporter": "python",
   "pygments_lexer": "ipython3",
   "version": "3.12.7"
  }
 },
 "nbformat": 4,
 "nbformat_minor": 5
}
